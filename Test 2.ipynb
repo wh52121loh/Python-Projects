{
 "cells": [
  {
   "cell_type": "markdown",
   "id": "29b7c3dd",
   "metadata": {},
   "source": [
    "# Question 1"
   ]
  },
  {
   "cell_type": "code",
   "execution_count": 5,
   "id": "097132c8",
   "metadata": {},
   "outputs": [
    {
     "data": {
      "image/png": "[encoded data removed]",
      "text/plain": [
       "<Figure size 640x480 with 1 Axes>"
      ]
     },
     "metadata": {},
     "output_type": "display_data"
    }
   ],
   "source": [
    "def dydt(y,t):\n",
    "    return -2*y*t\n",
    "import numpy as np\n",
    "import scipy as sc\n",
    "import matplotlib.pyplot as plt\n",
    "\n",
    "y0=1\n",
    "\n",
    "start=0\n",
    "end=2\n",
    "t=np.linspace(start, end, 100)\n",
    "\n",
    "yinitial=np.linspace(y0,y0,20)\n",
    "\n",
    "y=sc.integrate.odeint(dydt,y0,t)\n",
    "\n",
    "plt.figure()\n",
    "plt.plot(t,y,'r',label='y(t)')\n",
    "plt.title('y(t) versus t')\n",
    "plt.xlabel('t')\n",
    "plt.ylabel('y')\n",
    "plt.legend()\n",
    "plt.show()"
   ]
  },
  {
   "cell_type": "markdown",
   "id": "8faba232",
   "metadata": {},
   "source": [
    "# Question 2"
   ]
  },
  {
   "cell_type": "markdown",
   "id": "ab24536c",
   "metadata": {},
   "source": [
    "2x+4y+6z=18\n",
    "5x+3y+2z=13\n",
    "7x+8y+9z=30"
   ]
  },
  {
   "cell_type": "code",
   "execution_count": 8,
   "id": "407d833e",
   "metadata": {},
   "outputs": [
    {
     "name": "stdout",
     "output_type": "stream",
     "text": [
      "[[2 4 6]\n",
      " [5 3 2]\n",
      " [7 8 9]]\n"
     ]
    }
   ],
   "source": [
    "import numpy as np\n",
    "import scipy as sc\n",
    "\n",
    "A=np.array([[2,4,6],[5,3,2],[7,8,9]])\n",
    "print (A)"
   ]
  },
  {
   "cell_type": "code",
   "execution_count": 9,
   "id": "13e4761e",
   "metadata": {},
   "outputs": [
    {
     "name": "stdout",
     "output_type": "stream",
     "text": [
      "[[18]\n",
      " [13]\n",
      " [30]]\n"
     ]
    }
   ],
   "source": [
    "b=np.array([[18],[13],[30]])\n",
    "print(b)"
   ]
  },
  {
   "cell_type": "code",
   "execution_count": 10,
   "id": "78171973",
   "metadata": {},
   "outputs": [
    {
     "name": "stdout",
     "output_type": "stream",
     "text": [
      "[[ 4.5]\n",
      " [-7.5]\n",
      " [ 6.5]]\n"
     ]
    }
   ],
   "source": [
    "C=sc.linalg.solve(A,b)\n",
    "print(C)"
   ]
  },
  {
   "cell_type": "markdown",
   "id": "5da49258",
   "metadata": {},
   "source": [
    "# Question3"
   ]
  },
  {
   "cell_type": "markdown",
   "id": "b80e094e",
   "metadata": {},
   "source": [
    "https://api.open-meteo.com/v1/forecast \n",
    "latitude=2.5&longitude=112.5&timezone=Asia/Singapore\n",
    "https://api.open-meteo.com/v1/forecast?latitude=2.5&longitude=112.5&hourly=temperature_2m&timezone=Asia%2FSingapore&forecast_days=1"
   ]
  },
  {
   "cell_type": "code",
   "execution_count": 3,
   "id": "c21849d8",
   "metadata": {},
   "outputs": [
    {
     "name": "stdout",
     "output_type": "stream",
     "text": [
      "Enter the number of days for the forecast: 20\n",
      "The number of days for the forecast is exceed the limit.\n"
     ]
    }
   ],
   "source": [
    "num=int(input('Enter the number of days for the forecast: '))\n",
    "if num in range (1,17):\n",
    "    print(str(num) + ' days for forecast')\n",
    "else:\n",
    "    print('The number of days for the forecast is exceed the limit.')"
   ]
  },
  {
   "cell_type": "code",
   "execution_count": 2,
   "id": "7c85de25",
   "metadata": {},
   "outputs": [
    {
     "name": "stdout",
     "output_type": "stream",
     "text": [
      "Enter the number of days for the forecast: 1\n",
      "Error: 200\n"
     ]
    }
   ],
   "source": [
    "import requests\n",
    "from matplotlib import pyplot as plt\n",
    "\n",
    "def get_temperature(num):\n",
    "    api_url = 'https://api.open-meteo.com/v1/forecast?latitude=2.5&longitude=112.5&hourly=temperature_2m&timezone=Asia%2FSingapore&forecast_days=1'\n",
    "    try:\n",
    "        response = requests.get(api_url)\n",
    "        data = response.json()\n",
    "        \n",
    "        hour = data['hourly']\n",
    "        temperatures = data['temperature_2m']\n",
    "        latitude = data['latitude']\n",
    "        longitude = data['longitude']\n",
    "        elevation = data['elevation']\n",
    "        \n",
    "        plt.plot(hour,temperatures,'r',label = 'hourly temperature')\n",
    "        plt.xlabel('hour')\n",
    "        plt.ylabel('temperature(degC)')\n",
    "        plt.title(f'The hourly temperature at latitude= {latitude}, longitude= {longitude},elevation= {elevation}')\n",
    "        plt.grid(True, linestyle='--',linewidth=1)\n",
    "        plt.show()\n",
    "    except:\n",
    "        print(f\"Error: {response.status_code}\")\n",
    "        \n",
    "num=int(input('Enter the number of days for the forecast: '))\n",
    "if num in range (1,17):\n",
    "    get_temperature(num)\n",
    "else:\n",
    "    print('The number of days for the forecast is exceed the limit.')"
   ]
  },
  {
   "cell_type": "code",
   "execution_count": 1,
   "id": "fbb2e237",
   "metadata": {},
   "outputs": [
    {
     "ename": "SyntaxError",
     "evalue": "invalid syntax. Perhaps you forgot a comma? (2344085815.py, line 2)",
     "output_type": "error",
     "traceback": [
      "\u001b[1;36m  Cell \u001b[1;32mIn[1], line 2\u001b[1;36m\u001b[0m\n\u001b[1;33m    \"hourly\":[\"2024-01-11T00:00\",\"2024-01-11T01:00\",\"2024-01-11T02:00\",\"2024-01-11T03:00\",\"2024-01-11T04:00\",\"2024-01-11T05:00\",\"2024-01-11T06:00\",\"2024-01-11T07:00\",\"2024-01-11T08:00\",\"2024-01-11T09:00\",\"2024-01-11T10:00\",\"2024-01-11T11:00\",\"2024-01-11T12:00\",\"2024-01-11T13:00\",\"2024-01-11T14:00\",\"2024-01-11T15:00\",\"2024-01-11T16:00\",\"2024-01-11T17:00\",\"2024-01-11T18:00\",\"2024-01-11T19:00\",\"2024-01-11T20:00\",\"2024-01-11T21:00\",\"2024-01-11T22:00\",\"2024-01-11T23:00\"]\u001b[0m\n\u001b[1;37m             ^\u001b[0m\n\u001b[1;31mSyntaxError\u001b[0m\u001b[1;31m:\u001b[0m invalid syntax. Perhaps you forgot a comma?\n"
     ]
    }
   ],
   "source": [
    "json_data={\n",
    "    \"hourly\":[\"2024-01-11T00:00\",\"2024-01-11T01:00\",\"2024-01-11T02:00\",\"2024-01-11T03:00\",\"2024-01-11T04:00\",\"2024-01-11T05:00\",\"2024-01-11T06:00\",\"2024-01-11T07:00\",\"2024-01-11T08:00\",\"2024-01-11T09:00\",\"2024-01-11T10:00\",\"2024-01-11T11:00\",\"2024-01-11T12:00\",\"2024-01-11T13:00\",\"2024-01-11T14:00\",\"2024-01-11T15:00\",\"2024-01-11T16:00\",\"2024-01-11T17:00\",\"2024-01-11T18:00\",\"2024-01-11T19:00\",\"2024-01-11T20:00\",\"2024-01-11T21:00\",\"2024-01-11T22:00\",\"2024-01-11T23:00\"]\n",
    "    \"temperature_2m\":[23.8,23.5,23.3,23.2,23.1,23.1,23.0,23.0,24.2,25.6,26.8,27.9,28.4,28.9,28.6,28.0,27.8,26.9,26.0,25.3,25.0,24.7,24.6,24.4]\n",
    "}\n",
    "hour=json_data['hourly']\n",
    "temperatures=json_data['temperature_2m']\n",
    "\n",
    "plt.plot(hour,temperatures,'r',label = 'hourly temperature')\n",
    "plt.xlabel('hour')\n",
    "plt.ylabel('temperature(degC)')\n",
    "plt.title(f'The hourly temperature at latitude= {latitude}, longitude= {longitude},elevation= {elevation}')\n",
    "plt.grid(True, linestyle='--',linewidth=1)\n",
    "plt.show()"
   ]
  },
  {
   "cell_type": "code",
   "execution_count": null,
   "id": "38aada8d",
   "metadata": {},
   "outputs": [],
   "source": []
  }
 ],
 "metadata": {
  "kernelspec": {
   "display_name": "Python 3 (ipykernel)",
   "language": "python",
   "name": "python3"
  },
  "language_info": {
   "codemirror_mode": {
    "name": "ipython",
    "version": 3
   },
   "file_extension": ".py",
   "mimetype": "text/x-python",
   "name": "python",
   "nbconvert_exporter": "python",
   "pygments_lexer": "ipython3",
   "version": "3.11.5"
  }
 },
 "nbformat": 4,
 "nbformat_minor": 5
}
