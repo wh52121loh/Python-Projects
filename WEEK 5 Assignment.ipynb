{
 "cells": [
  {
   "cell_type": "code",
   "execution_count": 9,
   "id": "e3168726",
   "metadata": {},
   "outputs": [],
   "source": [
    "def checkout_books(librarian_name, *book_titles, duration='2 weeks', **kwargs):\n",
    "    #Process book checkouts at the library.\n",
    "    #Parameters:\n",
    "    #- librarian_name (str): Name of the librarian processing the checkout.\n",
    "    #- book_titles (str): One or more book titles being checked out.\n",
    "    #- duration (str, optional): Standard checkout duration, default is '2 weeks'.\n",
    "    #- kwargs (dict): Additional information about the checkout, such as late_fee per day or special_conditions.\n",
    "    #Returns:\n",
    "    #- str: Formatted string with information about the checkout process.\n",
    "    # Initialize the result string\n",
    "    print(f\"Checkout Processed by: {librarian_name}\")\n",
    "    print(\"Books Checked Out:\")\n",
    "    for title in book_titles:\n",
    "        print(f\"- {title}\")\n",
    "    print(f\"Checkout Duration: {duration}\")\n",
    "\n",
    "    # Display any additional information provided in kwargs\n",
    "    print(\"Additional Checkout Details: \")\n",
    "    if 'late_fee' in kwargs:\n",
    "        print(f\"- Late Fee: ${kwargs['late_fee']}\")\n",
    "    if 'renewals_allowed' in kwargs:\n",
    "        print(f\"- Renewals Allowed: {kwargs['renewals_allowed']}\")\n",
    "    if 'special_conditions' in kwargs:\n",
    "        print(\"Special Conditions for Checkout:\")\n",
    "        for condition in kwargs['special_conditions']:\n",
    "            print(f\"- {condition}\")\n",
    "\n",
    "    # Add the checkout logic here (e.g., update library records, set due dates, etc.)\n",
    "\n",
    "\n"
   ]
  },
  {
   "cell_type": "code",
   "execution_count": 14,
   "id": "9b5de3ed",
   "metadata": {},
   "outputs": [
    {
     "name": "stdout",
     "output_type": "stream",
     "text": [
      "Checkout Processed by: Sarah Connor\n",
      "Books Checked Out:\n",
      "- 1984\n",
      "- Brave New World\n",
      "Checkout Duration: 3 weeks\n",
      "Additional Checkout Details: \n",
      "- Late Fee: $0.25\n",
      "- Renewals Allowed: 2\n",
      "Special Conditions for Checkout:\n",
      "- Handle with care\n"
     ]
    }
   ],
   "source": [
    "checkout_books(\"Sarah Connor\", \"1984\", \"Brave New World\", duration='3 weeks',late_fee = 0.25, renewals_allowed=2, special_conditions=['Handle with care'])\n"
   ]
  },
  {
   "cell_type": "code",
   "execution_count": null,
   "id": "cf795cc0",
   "metadata": {},
   "outputs": [],
   "source": []
  }
 ],
 "metadata": {
  "kernelspec": {
   "display_name": "Python 3 (ipykernel)",
   "language": "python",
   "name": "python3"
  },
  "language_info": {
   "codemirror_mode": {
    "name": "ipython",
    "version": 3
   },
   "file_extension": ".py",
   "mimetype": "text/x-python",
   "name": "python",
   "nbconvert_exporter": "python",
   "pygments_lexer": "ipython3",
   "version": "3.11.5"
  }
 },
 "nbformat": 4,
 "nbformat_minor": 5
}
