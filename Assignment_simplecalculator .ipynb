{
 "cells": [
  {
   "cell_type": "code",
   "execution_count": 2,
   "id": "5186b271",
   "metadata": {},
   "outputs": [
    {
     "name": "stdout",
     "output_type": "stream",
     "text": [
      "Enter the first number:1\n",
      "Enter the second number:2\n",
      "Enter an operation(+,-,*,/):+\n",
      "The result is: 3.0\n",
      "Thank you for using this calculator\n"
     ]
    }
   ],
   "source": [
    "def simple_calculator():\n",
    "    while True:\n",
    "        try:\n",
    "            num1 = float(input('Enter the first number:'))\n",
    "            num2 = float(input('Enter the second number:'))\n",
    "            operation = input('Enter an operation(+,-,*,/):')\n",
    "        \n",
    "            if operation == '+':\n",
    "                result = num1 + num2\n",
    "            elif operation == '-':\n",
    "                result = num1 - num2\n",
    "            elif operation == '*':\n",
    "                result = num1 * num2\n",
    "            elif operation == '/':\n",
    "                result = num1 / num2\n",
    "            else:\n",
    "                print('Invalid operation. Please choose +, -, * or /.')\n",
    "                continue\n",
    "            \n",
    "            print(f\"The result is: {result}\")\n",
    "            break\n",
    "        except ValueError:\n",
    "            print(\"Invalid input. Please enter a number.\")\n",
    "        except ZeroDivisionError:\n",
    "            print(\"Error: Cannot divide by zero.\")\n",
    "        except:\n",
    "            print(\"There are something wrong with the input, please try again.\")\n",
    "        finally:\n",
    "            print(\"Thank you for using this calculator\")\n",
    "        \n",
    "simple_calculator()           "
   ]
  }
 ],
 "metadata": {
  "kernelspec": {
   "display_name": "Python 3 (ipykernel)",
   "language": "python",
   "name": "python3"
  },
  "language_info": {
   "codemirror_mode": {
    "name": "ipython",
    "version": 3
   },
   "file_extension": ".py",
   "mimetype": "text/x-python",
   "name": "python",
   "nbconvert_exporter": "python",
   "pygments_lexer": "ipython3",
   "version": "3.11.5"
  }
 },
 "nbformat": 4,
 "nbformat_minor": 5
}
