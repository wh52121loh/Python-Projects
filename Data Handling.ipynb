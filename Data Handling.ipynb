{
 "cells": [
  {
   "cell_type": "code",
   "execution_count": 3,
   "metadata": {},
   "outputs": [
    {
     "name": "stdout",
     "output_type": "stream",
     "text": [
      "Filtered data has been saved to top_students.csv\n"
     ]
    }
   ],
   "source": [
    "import csv\n",
    "\n",
    "def process_student_records(input_file, output_file):\n",
    "    # Step 1: Read the CSV file\n",
    "    with open(input_file, 'r') as infile:\n",
    "        reader = csv.reader(infile)\n",
    "        header = next(reader)  # Read the header\n",
    "\n",
    "        # Step 2: Filter out students with grade less than 'B'\n",
    "        filtered_data = [row for row in reader if row[2] <= 'B']\n",
    "\n",
    "    # Step 3: Add a Status column with the value 'Passed'\n",
    "    filtered_data = [['Passed'] + row for row in filtered_data]\n",
    "\n",
    "    # Step 4: Write the filtered data to a new CSV file\n",
    "    with open(output_file, 'w', newline='') as outfile:\n",
    "        writer = csv.writer(outfile)\n",
    "        writer.writerow(['Status'] + header)  # Write the new header\n",
    "        writer.writerows(filtered_data)\n",
    "\n",
    "    print(f\"Filtered data has been saved to {output_file}\")\n",
    "\n",
    "if __name__ == \"__main__\":\n",
    "    # Replace 'students.csv' and 'top_students.csv' with your file names\n",
    "    input_file_path = 'students.csv'\n",
    "    output_file_path = 'top_students.csv'\n",
    "\n",
    "    process_student_records(input_file_path, output_file_path)\n",
    "    "
   ]
  }
 ],
 "metadata": {
  "kernelspec": {
   "display_name": "Python 3",
   "language": "python",
   "name": "python3"
  },
  "language_info": {
   "codemirror_mode": {
    "name": "ipython",
    "version": 3
   },
   "file_extension": ".py",
   "mimetype": "text/x-python",
   "name": "python",
   "nbconvert_exporter": "python",
   "pygments_lexer": "ipython3",
   "version": "3.8.5"
  }
 },
 "nbformat": 4,
 "nbformat_minor": 4
}
