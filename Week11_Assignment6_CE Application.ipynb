{
 "cells": [
  {
   "cell_type": "code",
   "execution_count": 1,
   "id": "8359d5c9",
   "metadata": {},
   "outputs": [
    {
     "name": "stdout",
     "output_type": "stream",
     "text": [
      "Requirement already satisfied: thermo in c:\\users\\user\\anaconda3\\lib\\site-packages (0.2.27)\n",
      "Requirement already satisfied: chemicals>=1.1.5 in c:\\users\\user\\anaconda3\\lib\\site-packages (from thermo) (1.1.5)\n",
      "Requirement already satisfied: fluids>=1.0.25 in c:\\users\\user\\anaconda3\\lib\\site-packages (from thermo) (1.0.25)\n",
      "Requirement already satisfied: pandas in c:\\users\\user\\anaconda3\\lib\\site-packages (from thermo) (2.0.3)\n",
      "Requirement already satisfied: scipy in c:\\users\\user\\anaconda3\\lib\\site-packages (from thermo) (1.11.1)\n",
      "Requirement already satisfied: numpy in c:\\users\\user\\anaconda3\\lib\\site-packages (from chemicals>=1.1.5->thermo) (1.24.3)\n",
      "Requirement already satisfied: python-dateutil>=2.8.2 in c:\\users\\user\\anaconda3\\lib\\site-packages (from pandas->thermo) (2.8.2)\n",
      "Requirement already satisfied: pytz>=2020.1 in c:\\users\\user\\anaconda3\\lib\\site-packages (from pandas->thermo) (2023.3.post1)\n",
      "Requirement already satisfied: tzdata>=2022.1 in c:\\users\\user\\anaconda3\\lib\\site-packages (from pandas->thermo) (2023.3)\n",
      "Requirement already satisfied: six>=1.5 in c:\\users\\user\\anaconda3\\lib\\site-packages (from python-dateutil>=2.8.2->pandas->thermo) (1.16.0)\n"
     ]
    }
   ],
   "source": [
    "!pip install thermo"
   ]
  },
  {
   "cell_type": "code",
   "execution_count": 15,
   "id": "4603c3a9",
   "metadata": {},
   "outputs": [],
   "source": [
    "from thermo import *\n",
    "eos = PR(Tc=507.6, Pc=3025000.0, omega=0.2975, T=400., P=1E6)"
   ]
  },
  {
   "cell_type": "code",
   "execution_count": 11,
   "id": "0122d992",
   "metadata": {},
   "outputs": [
    {
     "data": {
      "text/plain": [
       "(0.00015607318478566296, 0.002141876816741797, 0.0009192954749822109)"
      ]
     },
     "execution_count": 11,
     "metadata": {},
     "output_type": "execute_result"
    }
   ],
   "source": [
    "eos.raw_volumes\n"
   ]
  },
  {
   "cell_type": "code",
   "execution_count": 16,
   "id": "9416f2b2",
   "metadata": {},
   "outputs": [
    {
     "data": {
      "text/plain": [
       "'l/g'"
      ]
     },
     "execution_count": 16,
     "metadata": {},
     "output_type": "execute_result"
    }
   ],
   "source": [
    "eos.phase\n"
   ]
  },
  {
   "cell_type": "code",
   "execution_count": 17,
   "id": "cb03a4bd",
   "metadata": {},
   "outputs": [
    {
     "data": {
      "text/plain": [
       "999999.9999999702"
      ]
     },
     "execution_count": 17,
     "metadata": {},
     "output_type": "execute_result"
    }
   ],
   "source": [
    "from thermo.eos import R\n",
    "R*eos.T/(eos.V_l-eos.b) - eos.a_alpha/(eos.V_l**2 + eos.V_l*eos.delta + eos.epsilon)"
   ]
  },
  {
   "cell_type": "code",
   "execution_count": 18,
   "id": "904034ed",
   "metadata": {},
   "outputs": [
    {
     "data": {
      "text/plain": [
       "1000000.0"
      ]
     },
     "execution_count": 18,
     "metadata": {},
     "output_type": "execute_result"
    }
   ],
   "source": [
    "R*eos.T/(eos.V_g-eos.b) - eos.a_alpha/(eos.V_g**2 + eos.V_g*eos.delta + eos.epsilon)"
   ]
  },
  {
   "cell_type": "code",
   "execution_count": 19,
   "id": "342848da",
   "metadata": {},
   "outputs": [
    {
     "data": {
      "text/plain": [
       "(-2872.4984343581164, -973.51982071665)"
      ]
     },
     "execution_count": 19,
     "metadata": {},
     "output_type": "execute_result"
    }
   ],
   "source": [
    "eos.G_dep_l, eos.G_dep_g"
   ]
  },
  {
   "cell_type": "code",
   "execution_count": 20,
   "id": "2d5575d7",
   "metadata": {},
   "outputs": [
    {
     "data": {
      "text/plain": [
       "'l'"
      ]
     },
     "execution_count": 20,
     "metadata": {},
     "output_type": "execute_result"
    }
   ],
   "source": [
    "eos.more_stable_phase"
   ]
  },
  {
   "cell_type": "code",
   "execution_count": null,
   "id": "2daefea9",
   "metadata": {},
   "outputs": [],
   "source": []
  },
  {
   "cell_type": "code",
   "execution_count": null,
   "id": "b075746c",
   "metadata": {},
   "outputs": [],
   "source": []
  }
 ],
 "metadata": {
  "kernelspec": {
   "display_name": "Python 3 (ipykernel)",
   "language": "python",
   "name": "python3"
  },
  "language_info": {
   "codemirror_mode": {
    "name": "ipython",
    "version": 3
   },
   "file_extension": ".py",
   "mimetype": "text/x-python",
   "name": "python",
   "nbconvert_exporter": "python",
   "pygments_lexer": "ipython3",
   "version": "3.11.5"
  }
 },
 "nbformat": 4,
 "nbformat_minor": 5
}
