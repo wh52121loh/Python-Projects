{
 "cells": [
  {
   "cell_type": "markdown",
   "id": "84620537",
   "metadata": {},
   "source": [
    "# Positional Arguments"
   ]
  },
  {
   "cell_type": "code",
   "execution_count": 3,
   "id": "a327b5a3",
   "metadata": {},
   "outputs": [
    {
     "name": "stdout",
     "output_type": "stream",
     "text": [
      "Alics is enrolled in Mathematics class.\n"
     ]
    }
   ],
   "source": [
    "def student_information(class_name, student_name):\n",
    "    print(student_name + \" is enrolled in \"+ class_name + \" class.\")\n",
    "student_information('Mathematics','Alics')"
   ]
  },
  {
   "cell_type": "markdown",
   "id": "89c253d9",
   "metadata": {},
   "source": [
    "# Keyword Arguments "
   ]
  },
  {
   "cell_type": "code",
   "execution_count": 6,
   "id": "219fdcb7",
   "metadata": {},
   "outputs": [],
   "source": [
    "def student_information(class_name, student_name):\n",
    "    print(student_name + \" is enrolled in \"+ class_name + \" class.\")\n"
   ]
  },
  {
   "cell_type": "code",
   "execution_count": 8,
   "id": "9957c477",
   "metadata": {},
   "outputs": [
    {
     "name": "stdout",
     "output_type": "stream",
     "text": [
      "Ahmed is enrolled in Python class.\n"
     ]
    }
   ],
   "source": [
    "#function calling\n",
    "student_information(student_name = \"Ahmed\",class_name= \"Python\")"
   ]
  },
  {
   "cell_type": "markdown",
   "id": "08b5cf4b",
   "metadata": {},
   "source": [
    "# Default Arguments"
   ]
  },
  {
   "cell_type": "code",
   "execution_count": 10,
   "id": "a59b8bf9",
   "metadata": {},
   "outputs": [],
   "source": [
    "def enroll_student(student_name, course=\"Introduction to Python\"):\n",
    "    print(\"Student Name: \"+ student_name)\n",
    "    print(\"Enrolled Course: \"+ course)\n",
    "    "
   ]
  },
  {
   "cell_type": "code",
   "execution_count": 11,
   "id": "f4598d36",
   "metadata": {},
   "outputs": [
    {
     "name": "stdout",
     "output_type": "stream",
     "text": [
      "Student Name: Ali\n",
      "Enrolled Course: Introduction to Python\n"
     ]
    }
   ],
   "source": [
    "enroll_student(\"Ali\")"
   ]
  },
  {
   "cell_type": "code",
   "execution_count": 15,
   "id": "5b95ac43",
   "metadata": {},
   "outputs": [
    {
     "name": "stdout",
     "output_type": "stream",
     "text": [
      "Student Name: Ahmed\n",
      "Enrolled Course: Mathematics\n"
     ]
    }
   ],
   "source": [
    "enroll_student(\"Ahmed\",\"Mathematics\")"
   ]
  },
  {
   "cell_type": "markdown",
   "id": "c1c8ea78",
   "metadata": {},
   "source": [
    "# Variable length Arguments "
   ]
  },
  {
   "cell_type": "code",
   "execution_count": 16,
   "id": "86f3278a",
   "metadata": {},
   "outputs": [],
   "source": [
    "def enroll_in_courses(student_name, *courses):\n",
    "    print(\"Student:\" + student_name)\n",
    "    print(\"Enrolled in :\")\n",
    "    for course in courses:\n",
    "        print(\"- \"+ course)"
   ]
  },
  {
   "cell_type": "code",
   "execution_count": 17,
   "id": "42cc5d5d",
   "metadata": {},
   "outputs": [
    {
     "name": "stdout",
     "output_type": "stream",
     "text": [
      "Student:Ali\n",
      "Enrolled in :\n",
      "- English\n",
      "- Mathematics\n",
      "- Biology\n"
     ]
    }
   ],
   "source": [
    "enroll_in_courses(\"Ali\",\"English\",\"Mathematics\",\"Biology\")"
   ]
  },
  {
   "cell_type": "code",
   "execution_count": 18,
   "id": "d91d3b27",
   "metadata": {},
   "outputs": [],
   "source": [
    "def enroll_student(student_name, **details):\n",
    "    print(\"Enrolling \"+student_name+\" with the following details:\")\n",
    "    for detail, value in details.items():\n",
    "        print(\"- \"+detail.replace('_',\" \").title()+\": \"+str(value))"
   ]
  },
  {
   "cell_type": "code",
   "execution_count": 19,
   "id": "50433e5e",
   "metadata": {},
   "outputs": [
    {
     "name": "stdout",
     "output_type": "stream",
     "text": [
      "Enrolling Smith with the following details:\n",
      "- Course: Algebra II\n",
      "- Semester: One\n",
      "- Payment Method: Credit Card\n"
     ]
    }
   ],
   "source": [
    "enroll_student(\"Smith\", course=\"Algebra II\", semester=\"One\",payment_method=\"Credit Card\")"
   ]
  },
  {
   "cell_type": "code",
   "execution_count": 20,
   "id": "58081e66",
   "metadata": {},
   "outputs": [],
   "source": [
    "def enroll_student(student_name, **details):\n",
    "    print(\"Enrolling \"+student_name+\" with the following details:\")\n",
    "    for key, value in details.items():\n",
    "        print(key+\" = \"+value)"
   ]
  },
  {
   "cell_type": "code",
   "execution_count": 21,
   "id": "e9e2e15d",
   "metadata": {},
   "outputs": [
    {
     "name": "stdout",
     "output_type": "stream",
     "text": [
      "Enrolling Smith with the following details:\n",
      "course = Algebra II\n",
      "semester = One\n",
      "payment_method = Credit Card\n"
     ]
    }
   ],
   "source": [
    "enroll_student(\"Smith\", course=\"Algebra II\", semester=\"One\",payment_method=\"Credit Card\")"
   ]
  }
 ],
 "metadata": {
  "kernelspec": {
   "display_name": "Python 3 (ipykernel)",
   "language": "python",
   "name": "python3"
  },
  "language_info": {
   "codemirror_mode": {
    "name": "ipython",
    "version": 3
   },
   "file_extension": ".py",
   "mimetype": "text/x-python",
   "name": "python",
   "nbconvert_exporter": "python",
   "pygments_lexer": "ipython3",
   "version": "3.11.5"
  }
 },
 "nbformat": 4,
 "nbformat_minor": 5
}
